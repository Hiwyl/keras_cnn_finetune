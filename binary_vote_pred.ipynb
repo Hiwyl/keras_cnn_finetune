{
 "cells": [
  {
   "cell_type": "code",
   "execution_count": 1,
   "metadata": {
    "collapsed": true
   },
   "outputs": [
    {
     "name": "stderr",
     "output_type": "stream",
     "text": [
      "Using TensorFlow backend.\n"
     ]
    }
   ],
   "source": [
    "from keras.models import load_model\n",
    "from keras_preprocessing.image import ImageDataGenerator\n",
    "import numpy as np\n",
    "from sklearn.metrics import confusion_matrix\n",
    "import cv2 as cv"
   ]
  },
  {
   "cell_type": "code",
   "execution_count": 2,
   "metadata": {
    "collapsed": false
   },
   "outputs": [
    {
     "name": "stdout",
     "output_type": "stream",
     "text": [
      "WARNING:tensorflow:From D:\\myenvs\\lib\\site-packages\\tensorflow\\python\\framework\\op_def_library.py:263: colocate_with (from tensorflow.python.framework.ops) is deprecated and will be removed in a future version.\nInstructions for updating:\nColocations handled automatically by placer.\n"
     ]
    },
    {
     "name": "stdout",
     "output_type": "stream",
     "text": [
      "WARNING:tensorflow:From D:\\myenvs\\lib\\site-packages\\keras\\backend\\tensorflow_backend.py:3445: calling dropout (from tensorflow.python.ops.nn_ops) with keep_prob is deprecated and will be removed in a future version.\nInstructions for updating:\nPlease use `rate` instead of `keep_prob`. Rate should be set to `rate = 1 - keep_prob`.\n"
     ]
    },
    {
     "name": "stdout",
     "output_type": "stream",
     "text": [
      "WARNING:tensorflow:From D:\\myenvs\\lib\\site-packages\\tensorflow\\python\\ops\\math_ops.py:3066: to_int32 (from tensorflow.python.ops.math_ops) is deprecated and will be removed in a future version.\nInstructions for updating:\nUse tf.cast instead.\n"
     ]
    },
    {
     "name": "stdout",
     "output_type": "stream",
     "text": [
      "模型加载成功\n"
     ]
    }
   ],
   "source": [
    "#加载模型\n",
    "model1 = load_model(\"weights/vgg16_0032.h5\")\n",
    "model2 = load_model(\"weights/vgg16_0029.h5\")\n",
    "model3 = load_model(\"weights/vgg16_0030.h5\")\n",
    "\n",
    "print(\"模型加载成功\")"
   ]
  },
  {
   "cell_type": "code",
   "execution_count": 9,
   "metadata": {},
   "outputs": [
    {
     "name": "stdout",
     "output_type": "stream",
     "text": [
      "Found 10 images belonging to 2 classes.\n"
     ]
    },
    {
     "name": "stdout",
     "output_type": "stream",
     "text": [
      "\r1/1 [==============================] - 0s 130ms/step\n"
     ]
    },
    {
     "name": "stdout",
     "output_type": "stream",
     "text": [
      "Found 10 images belonging to 2 classes.\n"
     ]
    },
    {
     "name": "stdout",
     "output_type": "stream",
     "text": [
      "\r1/1 [==============================] - 0s 140ms/step\n"
     ]
    },
    {
     "name": "stdout",
     "output_type": "stream",
     "text": [
      "Found 10 images belonging to 2 classes.\n"
     ]
    },
    {
     "name": "stdout",
     "output_type": "stream",
     "text": [
      "\r1/1 [==============================] - 0s 130ms/step\n"
     ]
    },
    {
     "name": "stdout",
     "output_type": "stream",
     "text": [
      "Found 10 images belonging to 2 classes.\n真实类别： [0. 0. 0. 0. 0. 1. 1. 1. 1. 1.]\n预测类别： [0, 0, 0, 0, 0, 1, 0, 1, 0, 1]\n[[5 0]\n [2 3]]\nacc: 0.8\n"
     ]
    }
   ],
   "source": [
    "#导入数据\n",
    "def load_data(shape):\n",
    "    test_path = '测试/t'\n",
    "    test_batches = ImageDataGenerator(rescale=1/255).flow_from_directory(test_path,\n",
    "                                      target_size=shape,\n",
    "                                    classes=[\"C2F\",\"X2F\"],\n",
    "                                    class_mode=\"binary\",batch_size=10,shuffle=False)\n",
    "    return test_batches\n",
    "\n",
    "# 预测\n",
    "def pred(model,steps,shape):\n",
    "    steps = steps\n",
    "    test_batches=load_data(shape)\n",
    "    pred = model.predict_generator(test_batches, steps=steps, verbose=1)\n",
    "    pred = pred.ravel()\n",
    "    pred = list(pred)\n",
    "    for i in range(len(pred)):\n",
    "        if pred[i] < 0.5:\n",
    "            pred[i] = 0\n",
    "        else:\n",
    "            pred[i] = 1\n",
    "    return pred\n",
    "#投票选出最多的\n",
    "def vote(lt):\n",
    "\tindex1 = 0\n",
    "\tmax = 0\n",
    "\tfor i in range(len(lt)):\n",
    "\t\tflag = 0\n",
    "\t\tfor j in range(i+1,len(lt)):\n",
    "\t\t\tif lt[j] == lt[i]:\n",
    "\t\t\t\tflag += 1\n",
    "\t\tif flag > max:\n",
    "\t\t\tmax = flag\n",
    "\t\t\tindex1 = i\n",
    "\treturn index1\n",
    "def Ensemble():\n",
    "    ans = []\n",
    "    pred1=list(pred(model1,1,(224,224)))\n",
    "    pred2=list(pred(model2,1,(224,224)))\n",
    "    pred3=list(pred(model3,1,(224,224)))\n",
    "    for i in range(len(pred1)):\n",
    "        ls = []\n",
    "        ls.append(pred1[i])\n",
    "        ls.append(pred2[i])\n",
    "        ls.append(pred3[i])\n",
    "        ans.append(ls[vote(ls)])\n",
    "    return ans\n",
    "\n",
    "#投票得出最终结果\n",
    "predicts=Ensemble()\n",
    "# for i in enumerate(predicts):\n",
    "#     print(i)\n",
    "\n",
    "\n",
    "\n",
    "test_batches = load_data((224,224))\n",
    "test_class = np.array([])\n",
    "\n",
    "files=[]\n",
    "for i in range(1):\n",
    "    test_imgs, test_lables = next(test_batches)\n",
    "    test_class = np.hstack((test_class, test_lables))\n",
    "    files.append(test_imgs)\n",
    "print(\"真实类别：\", test_class)\n",
    "print(\"预测类别：\", predicts)\n",
    "\n",
    "\n",
    "# 打印混淆矩阵\n",
    "cm = confusion_matrix(test_class, predicts)\n",
    "\n",
    "print(cm)\n",
    "\n",
    "tmp = 0\n",
    "for i in range(len(cm[0, :])):\n",
    "    tmp += cm[i][i]\n",
    "accuracy = tmp / np.sum(cm)\n",
    "print(\"acc:\", accuracy)\n",
    "\n",
    "\n",
    "i=0\n",
    "for images in files:\n",
    "    for label, pred_label, image in zip(test_class, predicts, images):\n",
    "        i += 1\n",
    "        cv.imshow('{} - {} {} {}'.format(\n",
    "            i, label,\n",
    "            '==' if label == pred_label\n",
    "            else '!=', pred_label), image)\n",
    "cv.waitKey(0)\n",
    "cv.destroyAllWindows()"
   ]
  },
  {
   "cell_type": "code",
   "execution_count": null,
   "metadata": {},
   "outputs": [],
   "source": []
  }
 ],
 "metadata": {
  "kernelspec": {
   "display_name": "Python 2",
   "language": "python",
   "name": "python2"
  },
  "language_info": {
   "codemirror_mode": {
    "name": "ipython",
    "version": 2
   },
   "file_extension": ".py",
   "mimetype": "text/x-python",
   "name": "python",
   "nbconvert_exporter": "python",
   "pygments_lexer": "ipython2",
   "version": "2.7.6"
  }
 },
 "nbformat": 4,
 "nbformat_minor": 0
}
